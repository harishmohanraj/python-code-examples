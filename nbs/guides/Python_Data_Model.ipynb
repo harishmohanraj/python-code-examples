{
 "cells": [
  {
   "cell_type": "markdown",
   "id": "72982bcd",
   "metadata": {},
   "source": [
    "# Python Data Model\n",
    "\n",
    "    - “API that we use to make our own objects play well with the most idiomatic language feature”"
   ]
  },
  {
   "cell_type": "markdown",
   "id": "f8b1b421",
   "metadata": {},
   "source": [
    "## Special Methods"
   ]
  },
  {
   "cell_type": "markdown",
   "id": "48b8a202",
   "metadata": {},
   "source": [
    "The special method names are always written with leading and trailing double underscores.\n",
    "\n",
    "For example, the syntax obj[key] is supported by the __getitem__ special method. In order to evaluate my_collection[key], the interpreter calls my_collection.__getitem__(key).\n",
    "    \n",
    "!!! note\n",
    "    \n",
    "    “We implement special methods when we want our objects to support\n",
    "    and interact with fundamental language constructs such as Collections, \n",
    "    Attribute access, Iteration, etc."
   ]
  },
  {
   "cell_type": "markdown",
   "id": "e3c0e36e",
   "metadata": {},
   "source": [
    "### Example: A Pythonic Card Deck"
   ]
  },
  {
   "cell_type": "markdown",
   "id": "b3b7ebf5",
   "metadata": {},
   "source": [
    "The below class demonstrates the power of implementing just two special methods, __getitem__ and __len__"
   ]
  },
  {
   "cell_type": "code",
   "execution_count": null,
   "id": "e92ad503",
   "metadata": {},
   "outputs": [],
   "source": [
    "import collections\n",
    "\n",
    "Card = collections.namedtuple(\"Card\", [\"rank\", \"suit\"])\n",
    "\n",
    "\n",
    "class FrenchDeck:\n",
    "    ranks = [n for n in range(2, 11)] + list(\"JQKA\")\n",
    "    suits = \"spades diamonds clubs hearts\".split()\n",
    "\n",
    "    def __init__(self):\n",
    "        self._cards = [Card(rank, suit) for suit in self.suits for rank in self.ranks]\n",
    "\n",
    "    def __len__(self):\n",
    "        return len(self._cards)\n",
    "\n",
    "    def __getitem__(self, position):\n",
    "        return self._cards[position]"
   ]
  },
  {
   "cell_type": "markdown",
   "id": "56bdb17e",
   "metadata": {},
   "source": [
    "The FrenchDeck class is short, but it packs a punch.\n",
    "\n",
    "First, like any standard Python collection, a deck responds to the len() function by returning the number of cards in it:"
   ]
  },
  {
   "cell_type": "code",
   "execution_count": null,
   "id": "44a65669",
   "metadata": {},
   "outputs": [
    {
     "data": {
      "text/plain": [
       "52"
      ]
     },
     "execution_count": null,
     "metadata": {},
     "output_type": "execute_result"
    }
   ],
   "source": [
    "deck = FrenchDeck()\n",
    "len(deck)"
   ]
  },
  {
   "cell_type": "markdown",
   "id": "3425198e",
   "metadata": {},
   "source": [
    "Reading specific cards from the deck—say, the first or the last—is easy,\n",
    "thanks to the __getitem__ method:"
   ]
  },
  {
   "cell_type": "code",
   "execution_count": null,
   "id": "9995e9da",
   "metadata": {},
   "outputs": [
    {
     "name": "stdout",
     "output_type": "stream",
     "text": [
      "Card(rank=2, suit='spades')\n",
      "Card(rank='A', suit='hearts')\n"
     ]
    }
   ],
   "source": [
    "print(deck[0])\n",
    "print(deck[-1])"
   ]
  },
  {
   "cell_type": "markdown",
   "id": "a21c8d70",
   "metadata": {},
   "source": [
    "Should we create a method to pick a random card? No need. Python already has a function to get a random item from a sequence: `random.choice`.\n",
    "\n",
    "We can use it on a deck instance:"
   ]
  },
  {
   "cell_type": "code",
   "execution_count": null,
   "id": "3cc91099",
   "metadata": {},
   "outputs": [
    {
     "name": "stdout",
     "output_type": "stream",
     "text": [
      "Card(rank='Q', suit='hearts')\n",
      "Card(rank=2, suit='diamonds')\n",
      "Card(rank='K', suit='spades')\n"
     ]
    }
   ],
   "source": [
    "from random import choice\n",
    "\n",
    "print(choice(deck))\n",
    "print(choice(deck))\n",
    "print(choice(deck))"
   ]
  },
  {
   "cell_type": "markdown",
   "id": "c7480994",
   "metadata": {},
   "source": [
    "Because our __getitem__ delegates to the [] operator of self._cards, our deck automatically supports slicing. \n",
    "\n",
    "Here’s how we look at the top three cards from a brand-new deck, and then pick just the Aces by starting at index 12 and skipping 13 cards at a time:"
   ]
  },
  {
   "cell_type": "code",
   "execution_count": null,
   "id": "29ab8366",
   "metadata": {},
   "outputs": [
    {
     "name": "stdout",
     "output_type": "stream",
     "text": [
      "[Card(rank=2, suit='spades'), Card(rank=3, suit='spades'), Card(rank=4, suit='spades')]\n",
      "[Card(rank='A', suit='spades'), Card(rank='A', suit='diamonds'), Card(rank='A', suit='clubs'), Card(rank='A', suit='hearts')]\n"
     ]
    }
   ],
   "source": [
    "print(deck[:3])\n",
    "print(deck[12::13])"
   ]
  },
  {
   "cell_type": "markdown",
   "id": "34b3fe44",
   "metadata": {},
   "source": [
    "Just by implementing the __getitem__ special method, our deck is also iterable:"
   ]
  },
  {
   "cell_type": "code",
   "execution_count": null,
   "id": "1ac65277",
   "metadata": {},
   "outputs": [
    {
     "name": "stdout",
     "output_type": "stream",
     "text": [
      "Card(rank='A', suit='hearts')\n",
      "Card(rank='K', suit='hearts')\n",
      "Card(rank='Q', suit='hearts')\n",
      "Card(rank='J', suit='hearts')\n",
      "Card(rank=10, suit='hearts')\n",
      "Card(rank=9, suit='hearts')\n",
      "Card(rank=8, suit='hearts')\n",
      "Card(rank=7, suit='hearts')\n",
      "Card(rank=6, suit='hearts')\n",
      "Card(rank=5, suit='hearts')\n",
      "Card(rank=4, suit='hearts')\n",
      "Card(rank=3, suit='hearts')\n",
      "Card(rank=2, suit='hearts')\n",
      "Card(rank='A', suit='clubs')\n",
      "Card(rank='K', suit='clubs')\n",
      "Card(rank='Q', suit='clubs')\n",
      "Card(rank='J', suit='clubs')\n",
      "Card(rank=10, suit='clubs')\n",
      "Card(rank=9, suit='clubs')\n",
      "Card(rank=8, suit='clubs')\n",
      "Card(rank=7, suit='clubs')\n",
      "Card(rank=6, suit='clubs')\n",
      "Card(rank=5, suit='clubs')\n",
      "Card(rank=4, suit='clubs')\n",
      "Card(rank=3, suit='clubs')\n",
      "Card(rank=2, suit='clubs')\n",
      "Card(rank='A', suit='diamonds')\n",
      "Card(rank='K', suit='diamonds')\n",
      "Card(rank='Q', suit='diamonds')\n",
      "Card(rank='J', suit='diamonds')\n",
      "Card(rank=10, suit='diamonds')\n",
      "Card(rank=9, suit='diamonds')\n",
      "Card(rank=8, suit='diamonds')\n",
      "Card(rank=7, suit='diamonds')\n",
      "Card(rank=6, suit='diamonds')\n",
      "Card(rank=5, suit='diamonds')\n",
      "Card(rank=4, suit='diamonds')\n",
      "Card(rank=3, suit='diamonds')\n",
      "Card(rank=2, suit='diamonds')\n",
      "Card(rank='A', suit='spades')\n",
      "Card(rank='K', suit='spades')\n",
      "Card(rank='Q', suit='spades')\n",
      "Card(rank='J', suit='spades')\n",
      "Card(rank=10, suit='spades')\n",
      "Card(rank=9, suit='spades')\n",
      "Card(rank=8, suit='spades')\n",
      "Card(rank=7, suit='spades')\n",
      "Card(rank=6, suit='spades')\n",
      "Card(rank=5, suit='spades')\n",
      "Card(rank=4, suit='spades')\n",
      "Card(rank=3, suit='spades')\n",
      "Card(rank=2, suit='spades')\n"
     ]
    }
   ],
   "source": [
    "# We can also iterate over the deck in reverse\n",
    "\n",
    "for card in reversed(deck):\n",
    "    print(card)"
   ]
  },
  {
   "cell_type": "markdown",
   "id": "446ccc04",
   "metadata": {},
   "source": [
    "in operator"
   ]
  },
  {
   "cell_type": "code",
   "execution_count": null,
   "id": "00617ffc",
   "metadata": {},
   "outputs": [
    {
     "data": {
      "text/plain": [
       "True"
      ]
     },
     "execution_count": null,
     "metadata": {},
     "output_type": "execute_result"
    }
   ],
   "source": [
    "Card('Q', 'hearts') in deck"
   ]
  },
  {
   "cell_type": "markdown",
   "id": "5f7266ea",
   "metadata": {},
   "source": [
    "How about sorting?\n",
    "\n",
    "A common system of ranking cards is by rank (with aces being highest), then by suit in the order of spades (highest), hearts, diamonds, and clubs (lowest).\n",
    "\n",
    "Here is a function that ranks cards by that rule, returning 0 for the 2 of clubs and 51 for the ace of spades:"
   ]
  },
  {
   "cell_type": "code",
   "execution_count": null,
   "id": "f1c0e6d9",
   "metadata": {},
   "outputs": [],
   "source": [
    "suit_values = dict(spades=3, hearts=2, diamonds=1, clubs=0)\n",
    "\n",
    "def spades_high(card):\n",
    "    rank_value = FrenchDeck.ranks.index(card.rank)\n",
    "    return rank_value * len(suit_values) + suit_values[card.suit]"
   ]
  },
  {
   "cell_type": "markdown",
   "id": "ff5ade40",
   "metadata": {},
   "source": [
    "Given spades_high, we can now list our deck in order of increasing rank:"
   ]
  },
  {
   "cell_type": "code",
   "execution_count": null,
   "id": "60d01ade",
   "metadata": {},
   "outputs": [
    {
     "name": "stdout",
     "output_type": "stream",
     "text": [
      "Card(rank=2, suit='clubs')\n",
      "Card(rank=2, suit='diamonds')\n",
      "Card(rank=2, suit='hearts')\n",
      "Card(rank=2, suit='spades')\n",
      "Card(rank=3, suit='clubs')\n",
      "Card(rank=3, suit='diamonds')\n",
      "Card(rank=3, suit='hearts')\n",
      "Card(rank=3, suit='spades')\n",
      "Card(rank=4, suit='clubs')\n",
      "Card(rank=4, suit='diamonds')\n",
      "Card(rank=4, suit='hearts')\n",
      "Card(rank=4, suit='spades')\n",
      "Card(rank=5, suit='clubs')\n",
      "Card(rank=5, suit='diamonds')\n",
      "Card(rank=5, suit='hearts')\n",
      "Card(rank=5, suit='spades')\n",
      "Card(rank=6, suit='clubs')\n",
      "Card(rank=6, suit='diamonds')\n",
      "Card(rank=6, suit='hearts')\n",
      "Card(rank=6, suit='spades')\n",
      "Card(rank=7, suit='clubs')\n",
      "Card(rank=7, suit='diamonds')\n",
      "Card(rank=7, suit='hearts')\n",
      "Card(rank=7, suit='spades')\n",
      "Card(rank=8, suit='clubs')\n",
      "Card(rank=8, suit='diamonds')\n",
      "Card(rank=8, suit='hearts')\n",
      "Card(rank=8, suit='spades')\n",
      "Card(rank=9, suit='clubs')\n",
      "Card(rank=9, suit='diamonds')\n",
      "Card(rank=9, suit='hearts')\n",
      "Card(rank=9, suit='spades')\n",
      "Card(rank=10, suit='clubs')\n",
      "Card(rank=10, suit='diamonds')\n",
      "Card(rank=10, suit='hearts')\n",
      "Card(rank=10, suit='spades')\n",
      "Card(rank='J', suit='clubs')\n",
      "Card(rank='J', suit='diamonds')\n",
      "Card(rank='J', suit='hearts')\n",
      "Card(rank='J', suit='spades')\n",
      "Card(rank='Q', suit='clubs')\n",
      "Card(rank='Q', suit='diamonds')\n",
      "Card(rank='Q', suit='hearts')\n",
      "Card(rank='Q', suit='spades')\n",
      "Card(rank='K', suit='clubs')\n",
      "Card(rank='K', suit='diamonds')\n",
      "Card(rank='K', suit='hearts')\n",
      "Card(rank='K', suit='spades')\n",
      "Card(rank='A', suit='clubs')\n",
      "Card(rank='A', suit='diamonds')\n",
      "Card(rank='A', suit='hearts')\n",
      "Card(rank='A', suit='spades')\n"
     ]
    }
   ],
   "source": [
    "for card in sorted(deck, key=spades_high):\n",
    "    print(card)"
   ]
  },
  {
   "cell_type": "markdown",
   "id": "87094fab",
   "metadata": {},
   "source": [
    "By implementing the special methods __len__ and __getitem__, our FrenchDeck behaves like a standard Python sequence, allowing it to benefit from core language features (e.g., iteration and slicing) and from the standard library, as shown by the examples using random.choice, reversed, and sorted."
   ]
  },
  {
   "cell_type": "markdown",
   "id": "0bdb601e",
   "metadata": {},
   "source": [
    "### How Special Methods Are Used"
   ]
  },
  {
   "cell_type": "markdown",
   "id": "23ee531a",
   "metadata": {},
   "source": [
    "The first thing to know about special methods is that they are meant to be called by the Python interpreter, and not by you.\n",
    "\n",
    "You don’t write my_object.__len__(). You write len(my_object) and, if my_object is an instance of a user-defined class, then Python calls the __len__ method you implemented."
   ]
  },
  {
   "cell_type": "markdown",
   "id": "ddd7826f",
   "metadata": {},
   "source": [
    "In the next sections, we’ll see some of the most important uses of special methods:"
   ]
  },
  {
   "cell_type": "markdown",
   "id": "39dad396",
   "metadata": {},
   "source": [
    "#### Emulating Numeric Types"
   ]
  },
  {
   "cell_type": "code",
   "execution_count": null,
   "id": "bf801eb7",
   "metadata": {},
   "outputs": [],
   "source": []
  }
 ],
 "metadata": {
  "kernelspec": {
   "display_name": "python3",
   "language": "python",
   "name": "python3"
  }
 },
 "nbformat": 4,
 "nbformat_minor": 5
}
